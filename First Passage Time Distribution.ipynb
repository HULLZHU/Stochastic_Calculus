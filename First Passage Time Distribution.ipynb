{
 "cells": [
  {
   "cell_type": "markdown",
   "metadata": {},
   "source": [
    "## First Passage Time of Symmetric Random Walk\n",
    "\n",
    "### Theorem 1\n",
    "If $m$ is an nonzero integer, then the symmetric random walk reaches the level $m$ almost surely. In other word, the first passage time $\\tau_{m}$ to level $m$ is $finite$\n",
    "almost surely.\n",
    "\n",
    "### Proof 1\n",
    "\n",
    "According to the martingale property of Symmetric Random Walk, and given the stopping time $\\tau_{m}$ if the process reaches the level of $m$, we can say $S_{n\\bigcap \\tau_{m}}$ is still a $martingale$, and has a $constant$ expectation\n",
    "\n",
    "$$E(S_{n\\cap\\tau_m})=E[e^{\\sigma M_{n\\cap \\tau_{m}}}(\\frac{2}{e^{\\sigma}+e^{-\\sigma}})^{n\\cap\\tau_{m}}]=S_{0}=1\\ \\ \\ \\ (1)$$ \n",
    "for all $n \\geq 0$"
   ]
  },
  {
   "cell_type": "markdown",
   "metadata": {},
   "source": [
    "\n",
    "We would like to consider\n",
    "$$\\lim_{n \\to \\infty}E[e^{\\sigma M_{n\\cap \\tau_{m}}}(\\frac{2}{e^{\\sigma}+e^{-\\sigma}})^{n\\cap\\tau_{m}}]$$\n",
    "\n",
    "We first consider the inner part\n",
    "$$\\lim_{n \\to \\infty}[e^{\\sigma M_{n}\\cap \\tau_{m}}(\\frac{2}{e^{\\sigma}+e^{-\\sigma}})^{n \\cap \\tau_{m}}]\\ \\ \\ \\ \\ (2)$$\n",
    "\n",
    "#### Right Part\n",
    "then we take $(2)$ as 2 parts, and first compute the right part\n",
    "\n",
    "$$\\lim_{n \\to \\infty}(\\frac{2}{e^{\\sigma}+e^{-\\sigma}})^{n \\cap \\tau_{m}}\\ \\ \\ \\ \\ (3)$$\n",
    "\n"
   ]
  },
  {
   "cell_type": "markdown",
   "metadata": {},
   "source": [
    "Let consider $cosh(\\sigma)= \\frac{e^{\\sigma}+e^{-\\sigma}}{2}$, it has its minimum value $1$ when $\\sigma = 0$, \n",
    "\n",
    "so for all $\\sigma > 0$, we can have\n",
    "$$0 < \\frac{2}{e^{\\sigma}+e^{-\\sigma}}<1\\ \\ \\ \\ (4)$$\n",
    "\n",
    "So we can easily conclude that\n",
    "$$\\lim_{n \\to \\infty}(\\frac{2}{e^{\\sigma}+e^{-\\sigma}})^{n \\cap \\tau_{m}} = \\begin{cases}(\\frac{2}{e^{\\sigma}+e^{-\\sigma}})^{\\tau_{m}}  &, \\tau_{m}<\\infty \\\\0 &, \\tau_{m} = \\infty \\end{cases} \\ \\ \\ \\ \\ (*5) Expansion\\ Format$$\n",
    "\n",
    "write (5) as\n",
    "$$I_{\\{\\tau_m < \\infty\\}}(\\frac{2}{e^{\\sigma}+e^{-\\sigma}})^{\\tau_m}\\ \\ \\ \\ \\ (*6)\\ Compact \\ Format$$\n",
    "\n",
    "where we can regard $$I_{\\tau < \\infty}=\\begin{cases}1&,\\tau_{m} < \\infty\\\\0,&,\\tau_{m} = \\infty\\end{cases} \\ \\ \\ \\ \\ (*7)$$\n",
    "\n",
    "#### Left Part\n",
    "\n",
    "Now we consider the  $left$  part of (2)\n",
    "$$\\lim_{n \\to \\infty}e^{\\sigma M_{n}\\cap\\tau_{m}}\\ \\ \\ \\ \\ (8)$$"
   ]
  },
  {
   "cell_type": "markdown",
   "metadata": {},
   "source": [
    "Because $M_{n\\cap \\tau_{m}}\\leq m$, we can easily get\n",
    "\n",
    "$$0 \\leq e^{\\sigma M_{n \\cap \\tau_{m}}} \\leq e^{\\sigma m}\\ \\ \\ \\ \\ \\ (9)\\ \\ \\ Bounded$$ \n",
    "\n",
    "Thus we have \n",
    "$$\\lim_{n \\to \\infty}e^{\\sigma M_{n}\\cap \\tau_{m}}=e^{\\sigma M_{\\tau_m}}=e^{\\sigma m}\\ \\ \\ \\  if\\ \\ \\tau_{m} < \\infty \\ \\ \\ \\ (9)$$"
   ]
  },
  {
   "cell_type": "markdown",
   "metadata": {},
   "source": [
    "#### Product of Two Parts\n",
    "Now with left part and right part as follows\n",
    "\n",
    "$$\\lim_{n \\to \\infty}[\\frac{2}{e^\\sigma + e^{-\\sigma}}]^{\\tau_{m}}=I_{\\{\\tau_{m} < \\infty\\}}(\\frac{2}{e^{\\sigma}+e^{-\\sigma}})^{\\tau_{m}}\\ \\ \\ \\ (6)Right\\ Part$$\n",
    "\n",
    "and\n",
    "\n",
    "$$\\lim_{n \\to \\infty}e^{\\sigma M_{n}\\cap \\tau_{m}}=e^{\\sigma M_{\\tau_m}}=e^{\\sigma m}\\ \\ \\ \\  if\\ \\ \\tau_{m} < \\infty \\ \\ \\ \\ (9)Left \\ Side$$\n",
    "\n",
    "we get product of 2 sides that\n",
    "\n",
    "$$\\lim_{n \\to \\infty}[e^{\\sigma M_{n}\\cap \\tau_{m}}(\\frac{2}{e^{\\sigma}+e^{-\\sigma}})^{n \\cap \\tau_{m}}]= e^{\\sigma m}(\\frac{2}{e^{\\sigma}+e^{-\\sigma}})^{\\tau_{m}}\\ \\ \\ \\ \\ \\ if\\ \\tau_{m} < \\infty \\ \\ \\ \\ (10)$$\n",
    "\n",
    "and\n",
    "\n",
    "$$\\lim_{n \\to \\infty}[e^{\\sigma M_{n}\\cap \\tau_{m}}(\\frac{2}{e^{\\sigma}+e^{-\\sigma}})^{n \\cap \\tau_{m}}]= Bounded(9)*0 = 0  \\ \\ \\ \\ if\\ \\tau_{m} = \\infty\\ \\ \\ \\ (11)$$\n",
    "\n",
    "we can compact $(10)$ and $(11)$ into \n",
    "\n",
    "$$\\lim_{n \\to \\infty}[e^{\\sigma M_{n}\\cap \\tau_{m}}(\\frac{2}{e^{\\sigma}+e^{-\\sigma}})^{n \\cap \\tau_{m}}]= I_{\\{\\tau_m < \\infty\\}}e^{\\sigma m}(\\frac{2}{e^{\\sigma}-e^{-\\sigma}})^{\\tau_m} \\ \\ \\ \\ (12)$$\n",
    "\n",
    "then we prove that (More steps need, skim here)\n",
    "\n",
    "$$E[I_{\\{\\tau_m < \\infty\\}}e^{\\sigma m}(\\frac{2}{e^{\\sigma}+e^{-\\sigma}})^{\\tau_m}] = 1 \\ \\ \\ \\ \\ (13)$$\n",
    "\n",
    "as $\\sigma \\to 0$, $(13)$ becomes\n",
    "\n",
    "$$E[I_{\\tau_{m} < \\infty}]=1$$\n",
    "\n",
    "then\n",
    "\n",
    "$$P[\\tau_{m} <\\infty]=1 \\ \\ \\ \\ (14)$$"
   ]
  }
 ],
 "metadata": {
  "kernelspec": {
   "display_name": "Python 3",
   "language": "python",
   "name": "python3"
  },
  "language_info": {
   "codemirror_mode": {
    "name": "ipython",
    "version": 3
   },
   "file_extension": ".py",
   "mimetype": "text/x-python",
   "name": "python",
   "nbconvert_exporter": "python",
   "pygments_lexer": "ipython3",
   "version": "3.7.3"
  }
 },
 "nbformat": 4,
 "nbformat_minor": 2
}
