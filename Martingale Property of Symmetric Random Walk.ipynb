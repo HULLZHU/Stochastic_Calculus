{
 "cells": [
  {
   "cell_type": "markdown",
   "metadata": {},
   "source": [
    "## Martingale Property of Symmetric Random Walk\n",
    "\n",
    "\n",
    "### Lemma 1\n",
    "$M_n$ is a symmetric random walk$_{(Appendix.1)}$, whose step length is $\\sigma$. Define a process like followings\n",
    "\n",
    "$$S_n = e^{\\sigma M_n}(\\frac{2}{e^\\sigma + e^{-\\sigma}})^n \\ \\ \\ \\ \\ (1)$$\n",
    "\n",
    "We can prove that this process is a $martingale$"
   ]
  },
  {
   "cell_type": "markdown",
   "metadata": {},
   "source": [
    "### Proof for Lemma 1\n",
    "\n",
    "According to (1), we can get \n",
    "\n",
    "$$S_{n+1} = e^{\\sigma M_{n+1}}(\\frac{2}{e^\\sigma + e^{-\\sigma}})^{n+1}$$\n",
    "\n",
    "which can be rewritten as\n",
    "\n",
    "$$S_{n+1} = e^{\\sigma \\sum_{t=1}^{n}X_{t+1}}(\\frac{2}{e^\\sigma + e^{-\\sigma}})^{n+1}=e^{\\sigma (M_{n}+X_{n+1})}(\\frac{2}{e^\\sigma + e^{-\\sigma}})^{n+1}$$\n",
    "\n",
    "\n",
    "which can be rewriiten as\n",
    "\n",
    "$$S_{n+1} = S_{n}e^{X_{n+1}}(\\frac{2}{e^\\sigma + e^{-\\sigma}})\\ \\ \\ \\ \\ (2)$$\n",
    "\n",
    "Let compute the Expectation of （2）\n",
    "\n",
    "$$E(S_{n+1}) = S_n E[e^{X_{n+1}}\\frac{2}{e^{\\sigma}+e^{-\\sigma}}]$$\n",
    "\n",
    "$$=S_n(\\frac{2}{e^\\sigma + e^{-\\sigma}})E[e^{X_{n+1}}]$$\n",
    "\n",
    "$$=S_n(\\frac{2}{e^\\sigma + e^{-\\sigma}})(\\frac{1}{2}e^\\sigma + \\frac{1}{2}e^{-\\sigma})=S_n \\ \\ \\ \\ \\ (3)$$\n",
    "\n",
    "Thus we can say that the Symmetric Random Process is a Martingale"
   ]
  },
  {
   "cell_type": "markdown",
   "metadata": {},
   "source": [
    "## Appendices\n",
    "##### Appendix.1 Symmetric Random Walk\n",
    "We define $$W_{n}  =  \\sum_{t=1}^n X_{t}$$ as a symmeric random walk if \n",
    "\n",
    "$$X_{i}=\n",
    "\\begin{cases}\n",
    "-1& \\text{,Tail Toss}\\\\\n",
    "1& \\text{,Head Toss}\n",
    "\\end{cases}$$"
   ]
  }
 ],
 "metadata": {
  "kernelspec": {
   "display_name": "Python 3",
   "language": "python",
   "name": "python3"
  },
  "language_info": {
   "codemirror_mode": {
    "name": "ipython",
    "version": 3
   },
   "file_extension": ".py",
   "mimetype": "text/x-python",
   "name": "python",
   "nbconvert_exporter": "python",
   "pygments_lexer": "ipython3",
   "version": "3.7.3"
  }
 },
 "nbformat": 4,
 "nbformat_minor": 2
}
