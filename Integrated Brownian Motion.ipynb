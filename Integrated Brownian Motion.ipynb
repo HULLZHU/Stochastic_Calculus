{
 "cells": [
  {
   "cell_type": "markdown",
   "metadata": {},
   "source": [
    "### Integration of Brownian Motion\n",
    "\n",
    "The integrated Brownian Motion is defined as\n",
    "\n",
    "$$Z_t = \\int^{t}_{0}W_sds t \\ \\ \\ \\ t \\geq 0 \\ \\ \\ \\ \\ (1) $$\n",
    "\n",
    "Let $0 = s_0 < s_1 < ...<s_k <....<S_n = t$ and $s_k = \\frac{kt}{n}$\n",
    "\n",
    "We get Riemann Sums\n",
    "\n",
    "$$Z_t = \\lim{n \\to \\infty}\\sum^{n}_{k = 1}W_{sk}\\Delta s = t \\lim{n \\to \\infty}\\frac{W_{S_1}+...+W_{S_n}}{n} \\ \\ \\ \\ (2)$$\n",
    "\n",
    "Where\n",
    "\n",
    "$$\\Delta s = s_{k+1}-s_k = \\frac{t}{n}$$\n",
    "\n",
    "$$W_{s1}+...+W_{sn}$$\n",
    "\n",
    "$$=n(W_{S_1} - W_0)+(n-1)(W_{S_2}- W_{S_1})+...+(W_{S_n}-W_{S_{n-1}})$$\n",
    "\n",
    "$$= X_1 + X_2 +...+X_n \\ \\ \\ \\ \\ \\ (3)$$\n",
    "\n",
    "Where\n",
    "\n",
    "$$X_1 \\sim N(0,n^2\\Delta S)$$\n",
    "\n",
    "$$X_2 \\sim N(0,(n-1)^2\\Delta S)$$\n",
    "\n",
    "$$X_3 \\sim N(0,(n-2)^2 \\Delta)$$\n",
    "\n",
    "$$...$$\n",
    "\n",
    "$$X_n \\sim N(0,\\Delta S)$$\n",
    "\n",
    "Then we get \n",
    "\n",
    "$$X_1 + ... + X_n \\sim N(0,(1+2^2+3^2+...+n^2)\\Delta S) = N(0,\\frac{n(n+1)(2n+1)}{6}\\Delta S)$$\n",
    "\n",
    "and because $\\Delta S = \\frac{t}{n}$, we get\n",
    "\n",
    "$$t\\frac{W_{S_1}+...+W_{S_n}}{n} \\sim N(0,\\frac{(n+1)(2n+1)t^3}{6 n^2})$$\n",
    "\n",
    "We get\n",
    "\n",
    "$$Z_t \\sim N(0,\\frac{t^3}{3})$$"
   ]
  },
  {
   "cell_type": "code",
   "execution_count": null,
   "metadata": {},
   "outputs": [],
   "source": []
  }
 ],
 "metadata": {
  "kernelspec": {
   "display_name": "Python 3",
   "language": "python",
   "name": "python3"
  },
  "language_info": {
   "codemirror_mode": {
    "name": "ipython",
    "version": 3
   },
   "file_extension": ".py",
   "mimetype": "text/x-python",
   "name": "python",
   "nbconvert_exporter": "python",
   "pygments_lexer": "ipython3",
   "version": "3.7.3"
  }
 },
 "nbformat": 4,
 "nbformat_minor": 2
}
