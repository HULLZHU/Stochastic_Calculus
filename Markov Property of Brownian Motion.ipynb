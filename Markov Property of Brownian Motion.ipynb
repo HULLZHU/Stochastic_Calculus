{
 "cells": [
  {
   "cell_type": "markdown",
   "metadata": {},
   "source": [
    "# Markov Property &Transition Density Function of GBM "
   ]
  },
  {
   "cell_type": "markdown",
   "metadata": {},
   "source": [
    "### Theorem:\n",
    "\n",
    "let $W(t),\\ t \\geq 0$ be a $Brownian$ $Motion$ \n",
    "\n",
    "let $F(t), \\ t \\geq 0$ be a $filtration$ for the Brownian Motion. Then $W(t),\\ t \\geq 0$ is a $Markov$ $Process$. "
   ]
  },
  {
   "cell_type": "markdown",
   "metadata": {},
   "source": [
    "### Proof:\n",
    "\n",
    "According to Definition of $Markov\\ Process$ $_{(Appendix.1)}$, if we need to prove that the Process $W(t)$ is a Markov Process, we only need to prove that here is one another Borel-Measurable function $g$ that\n",
    "\n",
    "$$E[f(W(t))|F(s)]=g(W(s))\\ \\ \\ \\ (1)$$\n",
    "\n",
    "Whenever:\n",
    "\n",
    "$0 \\leq s \\leq t$, $F$ is a $Borel-Measurable\\ Function$."
   ]
  },
  {
   "cell_type": "markdown",
   "metadata": {},
   "source": [
    "From $(1)$, we conclude that\n",
    "\n",
    "$$E[f(W(t))|F(s)]=E[f((W(t)-W(s))+W(s)|F(s)] \\ \\ \\ \\ (2)$$\n",
    "\n",
    "Where:\n",
    "\n",
    "$W(t)-W(s)$ is independent of $F(s)$, and $W(s)$ is $F(s)-Measurable$"
   ]
  },
  {
   "cell_type": "markdown",
   "metadata": {},
   "source": [
    "From $(2)$ and $Independence Lemma$, we can replace $W(s)$ by a dummy variable $x$, \n",
    "\n",
    "which means we can regard it as a $constant$, and then compute the $unconditional$ $expectation$ of other variables. \n",
    "\n",
    "Then we get the $(2)$ to be\n",
    "\n",
    "$$E[f(W(t))|F(s)]=E[f((W(t)-W(s))+x|F(s)]=g(x)\\ \\ \\ \\ (3.1)$$\n",
    "\n",
    "again because $W(t)-W(s)$~$N(0,t-s)$, and we can replace \n",
    "$$W(t) - W(s) = w$$\n",
    "then $(3)$ become \n",
    "$$E[f(w+x)|F(s)] = g(x)\\ \\ \\ \\ (3.2)$$\n",
    "\n",
    "then we get\n",
    "\n",
    "$$g(x)=\\frac{1}{\\sqrt{2\\pi (t-s)}} \\int^{+\\infty}_{-\\infty}f(w+x)e^{-\\frac{w^{2}}{2(t-s)}}dw\\ \\ \\ \\ (4)$$"
   ]
  },
  {
   "cell_type": "markdown",
   "metadata": {},
   "source": [
    "\n",
    "Now let us replace $\\tau = t -s $ and $y = w+x$, then we get (4) to be\n",
    "\n",
    "$$g(x) = \\frac{1}{\\sqrt{2\\pi \\tau}} \\int^{+\\infty}_{-\\infty}f(y)e^{-\\frac{(y-x)^{2}}{2\\tau}}dw\\ \\ \\ \\ (5)$$\n",
    "\n",
    "Now we define the $transition\\ density\\ function p(\\tau,x,y)$ for Brownian Motion to be \n",
    "\n",
    "$$p(\\tau,x,y) = \\frac{1}{\\sqrt{2\\pi t}}e^{\\frac{-(y-x)^2}{2\\tau}}\\ \\ \\ (6*)\\  transition\\ density\\ function$$\n",
    "\n",
    "then we get get $(4)$ to be\n",
    "\n",
    "$$g(x) = \\int^{\\infty}_{\\infty}f(y)p(\\tau,x,y)dy\\ \\ \\ \\ (7.1)$$\n",
    "\n",
    "or in the form of \n",
    "\n",
    "$$E[f(W(t))|F(s)] = \\int^{\\infty}_{\\infty}f(y)p(\\tau,x,y)dy\\ \\ \\ \\ (7.2)$$\n"
   ]
  },
  {
   "cell_type": "markdown",
   "metadata": {},
   "source": [
    "### How to Understand? \n",
    "\n",
    "With the condition of information in $F(s)$, the conditional density function of $W(t)$ is $p(\\tau,W(s),y)$, which is a function with the variable $y$. \n",
    "\n",
    "For this funtion, the mean is $x$ or $W(s)$, and the variance is $\\tau$. So we can see that the only factor which is from $W(s)$ but influencing $W(t)$ is the $value$ of $W(s)$, thus we can conclude that GBM is a Markov Process"
   ]
  },
  {
   "cell_type": "markdown",
   "metadata": {},
   "source": [
    "## Appendices\n",
    "### Appendix.1\n",
    "\n",
    "$Definition\\ of\\ Markov\\ Process$ \n",
    "\n",
    "Have probability space $(\\Omega,F,P)$, fixed number $T > 0$ and a filtration of $sub -\\sigma\\ algebras$:  $ F(t), 0 \\leq t \\leq T$of $F$.\n",
    "\n",
    "Consider a stochastic process $X(t), 0 \\leq t \\leq T$ :\n",
    "\n",
    "If $0 \\leq s \\leq t \\leq T$ and for every non-negative, Borel-measurable function f, there is another Borel-measurable function $g$ such that\n",
    "\n",
    "$$E[f(X(t))|F(s)] = g(X(s))$$\n",
    "\n",
    "Then $X$ is a $Markov \\ Process$"
   ]
  },
  {
   "cell_type": "markdown",
   "metadata": {},
   "source": [
    "## References\n",
    "Steve Shreve $Stochastic\\ Calculus\\ for\\ Finance\\ II $"
   ]
  }
 ],
 "metadata": {
  "kernelspec": {
   "display_name": "Python 3",
   "language": "python",
   "name": "python3"
  },
  "language_info": {
   "codemirror_mode": {
    "name": "ipython",
    "version": 3
   },
   "file_extension": ".py",
   "mimetype": "text/x-python",
   "name": "python",
   "nbconvert_exporter": "python",
   "pygments_lexer": "ipython3",
   "version": "3.7.3"
  }
 },
 "nbformat": 4,
 "nbformat_minor": 2
}
